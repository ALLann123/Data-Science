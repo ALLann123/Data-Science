{
  "nbformat": 4,
  "nbformat_minor": 0,
  "metadata": {
    "colab": {
      "provenance": []
    },
    "kernelspec": {
      "name": "python3",
      "display_name": "Python 3"
    },
    "language_info": {
      "name": "python"
    }
  },
  "cells": [
    {
      "cell_type": "markdown",
      "source": [
        "**1 The re module**\n"
      ],
      "metadata": {
        "id": "JERQvi4_CO-C"
      }
    },
    {
      "cell_type": "code",
      "execution_count": 1,
      "metadata": {
        "id": "KPVUjNyjwRwO"
      },
      "outputs": [],
      "source": [
        "import re   #python build in package for regex"
      ]
    },
    {
      "cell_type": "markdown",
      "source": [
        "**1.1 re.search()**"
      ],
      "metadata": {
        "id": "l18aZnShCh4l"
      }
    },
    {
      "cell_type": "code",
      "source": [
        "text=\"\"\"\n",
        "  Hello World.\n",
        "  I love Python!!!!!\n",
        "  My first lucky number is 987-654-321\n",
        "  My second lucky number is 878-543-210\n",
        "  My third lucky number is 767-432-100\n",
        "  My fourth lucky number is 123-456-123-123-456\n",
        "  \"\"\""
      ],
      "metadata": {
        "id": "i0u8i2iCCgxI"
      },
      "execution_count": 2,
      "outputs": []
    },
    {
      "cell_type": "code",
      "source": [
        "#return the first match\n",
        "re.search(r'\\d', text)"
      ],
      "metadata": {
        "colab": {
          "base_uri": "https://localhost:8080/"
        },
        "id": "EJAiSynNDBJ-",
        "outputId": "c9484839-9da7-4880-8cb5-9861a8fa7182"
      },
      "execution_count": 11,
      "outputs": [
        {
          "output_type": "execute_result",
          "data": {
            "text/plain": [
              "<re.Match object; span=(64, 65), match='9'>"
            ]
          },
          "metadata": {},
          "execution_count": 11
        }
      ]
    },
    {
      "cell_type": "code",
      "source": [
        "#flags\n",
        "re.search(r'hello', text, flags=re.I)"
      ],
      "metadata": {
        "colab": {
          "base_uri": "https://localhost:8080/"
        },
        "id": "HaWdwiVhDhrm",
        "outputId": "6f41ea1d-4a4e-43c3-dff2-93a7c0a3b867"
      },
      "execution_count": 12,
      "outputs": [
        {
          "output_type": "execute_result",
          "data": {
            "text/plain": [
              "<re.Match object; span=(3, 8), match='Hello'>"
            ]
          },
          "metadata": {},
          "execution_count": 12
        }
      ]
    },
    {
      "cell_type": "code",
      "source": [],
      "metadata": {
        "id": "qGwY6NT3DxNm"
      },
      "execution_count": null,
      "outputs": []
    },
    {
      "cell_type": "markdown",
      "source": [
        "**2 re.findall()**"
      ],
      "metadata": {
        "id": "ZaXeyV0EEXRk"
      }
    },
    {
      "cell_type": "code",
      "source": [
        "#return all the matches\n",
        "re.findall(r'\\d', text)"
      ],
      "metadata": {
        "colab": {
          "base_uri": "https://localhost:8080/"
        },
        "id": "_7zaRpO1Eb_9",
        "outputId": "02ca6bb3-8947-42c2-f5a4-c4d6daab1802"
      },
      "execution_count": 14,
      "outputs": [
        {
          "output_type": "execute_result",
          "data": {
            "text/plain": [
              "['9',\n",
              " '8',\n",
              " '7',\n",
              " '6',\n",
              " '5',\n",
              " '4',\n",
              " '3',\n",
              " '2',\n",
              " '1',\n",
              " '8',\n",
              " '7',\n",
              " '8',\n",
              " '5',\n",
              " '4',\n",
              " '3',\n",
              " '2',\n",
              " '1',\n",
              " '0',\n",
              " '7',\n",
              " '6',\n",
              " '7',\n",
              " '4',\n",
              " '3',\n",
              " '2',\n",
              " '1',\n",
              " '0',\n",
              " '0',\n",
              " '1',\n",
              " '2',\n",
              " '3',\n",
              " '4',\n",
              " '5',\n",
              " '6',\n",
              " '1',\n",
              " '2',\n",
              " '3',\n",
              " '1',\n",
              " '2',\n",
              " '3',\n",
              " '4',\n",
              " '5',\n",
              " '6']"
            ]
          },
          "metadata": {},
          "execution_count": 14
        }
      ]
    },
    {
      "cell_type": "code",
      "source": [],
      "metadata": {
        "id": "5Kt24uX2EnaC"
      },
      "execution_count": null,
      "outputs": []
    },
    {
      "cell_type": "markdown",
      "source": [
        "**3 Excercises**"
      ],
      "metadata": {
        "id": "wDfve4vnEzyh"
      }
    },
    {
      "cell_type": "code",
      "source": [
        "#match only punctuation\n",
        "re.findall(r'\\W', text)"
      ],
      "metadata": {
        "colab": {
          "base_uri": "https://localhost:8080/"
        },
        "id": "Wwc_uHLxE3eK",
        "outputId": "807af16f-b1c5-42d3-c7c2-6fcecc50aab2"
      },
      "execution_count": 19,
      "outputs": [
        {
          "output_type": "execute_result",
          "data": {
            "text/plain": [
              "['\\n',\n",
              " ' ',\n",
              " ' ',\n",
              " ' ',\n",
              " '.',\n",
              " '\\n',\n",
              " ' ',\n",
              " ' ',\n",
              " ' ',\n",
              " ' ',\n",
              " '!',\n",
              " '!',\n",
              " '!',\n",
              " '!',\n",
              " '!',\n",
              " '\\n',\n",
              " ' ',\n",
              " ' ',\n",
              " ' ',\n",
              " ' ',\n",
              " ' ',\n",
              " ' ',\n",
              " ' ',\n",
              " '-',\n",
              " '-',\n",
              " '\\n',\n",
              " ' ',\n",
              " ' ',\n",
              " ' ',\n",
              " ' ',\n",
              " ' ',\n",
              " ' ',\n",
              " ' ',\n",
              " '-',\n",
              " '-',\n",
              " '\\n',\n",
              " ' ',\n",
              " ' ',\n",
              " ' ',\n",
              " ' ',\n",
              " ' ',\n",
              " ' ',\n",
              " ' ',\n",
              " '-',\n",
              " '-',\n",
              " '\\n',\n",
              " ' ',\n",
              " ' ',\n",
              " ' ',\n",
              " ' ',\n",
              " ' ',\n",
              " ' ',\n",
              " ' ',\n",
              " '-',\n",
              " '-',\n",
              " '-',\n",
              " '-',\n",
              " '\\n',\n",
              " ' ',\n",
              " ' ']"
            ]
          },
          "metadata": {},
          "execution_count": 19
        }
      ]
    },
    {
      "cell_type": "code",
      "source": [
        "#match the right date format(MM-DD-YYYY)\n",
        "id_date='''\n",
        "13-04-2021\n",
        "2021-13-04\n",
        "2021-04-13\n",
        "'''\n",
        "re.findall(r'\\d{2}-\\d{2}-\\d{4}', id_date)"
      ],
      "metadata": {
        "colab": {
          "base_uri": "https://localhost:8080/"
        },
        "id": "pCIfkJOdFNPl",
        "outputId": "6d6cc18b-2586-4549-f296-35be47587d46"
      },
      "execution_count": 42,
      "outputs": [
        {
          "output_type": "execute_result",
          "data": {
            "text/plain": [
              "['13-04-2021']"
            ]
          },
          "metadata": {},
          "execution_count": 42
        }
      ]
    },
    {
      "cell_type": "code",
      "source": [
        "#match right username format(4-14 characters and only digits and letters)\n",
        "password='''\n",
        "username10\n",
        "abc\n",
        "10\n",
        "'''\n",
        "\n",
        "re.findall(r'\\w{4,14}\\d+', password)"
      ],
      "metadata": {
        "colab": {
          "base_uri": "https://localhost:8080/"
        },
        "id": "2GbQJ99RGDVD",
        "outputId": "2b8a4da0-41a4-4c7a-90d8-e428df318436"
      },
      "execution_count": 29,
      "outputs": [
        {
          "output_type": "execute_result",
          "data": {
            "text/plain": [
              "['username10']"
            ]
          },
          "metadata": {},
          "execution_count": 29
        }
      ]
    },
    {
      "cell_type": "code",
      "source": [],
      "metadata": {
        "id": "DPEy8r7hHc1A"
      },
      "execution_count": null,
      "outputs": []
    }
  ]
}